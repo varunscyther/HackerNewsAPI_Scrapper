{
 "cells": [
  {
   "cell_type": "code",
   "execution_count": 231,
   "metadata": {},
   "outputs": [],
   "source": [
    "import requests"
   ]
  },
  {
   "cell_type": "code",
   "execution_count": 232,
   "metadata": {},
   "outputs": [],
   "source": [
    "url = 'https://hacker-news.firebaseio.com/v0/'"
   ]
  },
  {
   "cell_type": "code",
   "execution_count": 233,
   "metadata": {},
   "outputs": [
    {
     "name": "stdout",
     "output_type": "stream",
     "text": [
      "[('joshwa', 2), ('JMiao', 2), ('zaidf', 1), ('vlad', 1), ('domp', 1), ('zach', 1), ('herdrick', 1), ('rfrey', 1)]\n",
      "[('msgbeepa', 1), ('danw', 1), ('gibsonf1', 1), ('domp', 1)]\n",
      "[('Sunday', 4)]\n",
      "[('Sunday', 10)]\n",
      "{'herdrick', 'vlad', 'domp', 'JMiao', 'rfrey', 'joshwa', 'zaidf', 'zach'}\n",
      "story_with_longest_comment - 7916\n",
      "longest_descendants - 9\n",
      "no_stories_created - 4\n",
      "no_comments_created - 10\n",
      "user left most comment - joshwa\n",
      "user created more stories - msgbeepa\n",
      "Day on which most of stories created - Sunday\n",
      "Day on which most of comments created  - Sunday\n"
     ]
    }
   ],
   "source": [
    "import time\n",
    "import pandas as pd\n",
    "from datetime import datetime\n",
    "\n",
    "no_stories_created = 0\n",
    "no_comments_created = 0\n",
    "story_with_longest_comment = 0 \n",
    "longest_descendants = None\n",
    "user_comments_dict = {}\n",
    "user_storys_dict = {}\n",
    "day_stories_created_dict = {}\n",
    "day_comments_created_dict = {}\n",
    "users_list=set()\n",
    "\n",
    "for item in range(7911, 7925):\n",
    "    response = requests.get(url + f'item/{item}.json').json()\n",
    "    if response.get('type') == \"story\":\n",
    "        day_on_wch_str_created = pd.Timestamp(datetime.fromtimestamp(response.get('time'))).day_name()\n",
    "        if day_on_wch_str_created in day_stories_created_dict :\n",
    "            day_stories_created_dict[day_on_wch_str_created] += 1\n",
    "        else :\n",
    "            day_stories_created_dict[day_on_wch_str_created] = 1\n",
    "        no_stories_created += 1\n",
    "        if user_storys_dict.get(response.get('by')) is None :\n",
    "            user_storys_dict[response.get('by')] = 1\n",
    "        else:\n",
    "            user_storys_dict[response.get('by')] += 1\n",
    "        if longest_descendants is None :\n",
    "            longest_descendants = response.get('descendants')\n",
    "            story_with_longest_comment = item\n",
    "        elif response.get('descendants') is not None and response.get('descendants') > longest_descendants:\n",
    "            longest_descendants = response.get('descendants')\n",
    "            story_with_longest_comment = item\n",
    "    elif response.get('type') == \"comment\":\n",
    "        users_list.add(response.get('by'))\n",
    "        day_on_wch_cmt_created = pd.Timestamp(datetime.fromtimestamp(response.get('time'))).day_name()\n",
    "        if day_on_wch_cmt_created in day_comments_created_dict:\n",
    "            day_comments_created_dict[day_on_wch_cmt_created] += 1\n",
    "        else:\n",
    "            day_comments_created_dict[day_on_wch_cmt_created] = 1\n",
    "        no_comments_created += 1\n",
    "        if user_comments_dict.get(response.get('by')) is None :\n",
    "            user_comments_dict[response.get('by')] = 1\n",
    "        else :\n",
    "            user_comments_dict[response.get('by')] += 1\n",
    "sorted_user_comments_dict = sorted(user_comments_dict.items(), key=lambda x: x[1], reverse=True)\n",
    "sorted_user_storys_dict  = sorted(user_storys_dict.items(), key=lambda x: x[1], reverse=True)\n",
    "sorted_day_stories_created_dict  = sorted(day_stories_created_dict.items(), key=lambda x: x[1], reverse=True)\n",
    "sorted_day_comments_created_dict  = sorted(day_comments_created_dict.items(), key=lambda x: x[1], reverse=True)\n",
    "\n",
    "\n",
    "print(sorted_user_comments_dict)\n",
    "print(sorted_user_storys_dict)\n",
    "print(sorted_day_stories_created_dict)\n",
    "print(sorted_day_comments_created_dict)\n",
    "print(users_list)\n",
    "\n",
    "user_left_most_comment = sorted_user_comments_dict[0][0]\n",
    "user_created_more_stories = sorted_user_storys_dict[0][0]\n",
    "day_max_cmnt = sorted_day_comments_created_dict[0][0]\n",
    "day_max_str = sorted_day_stories_created_dict[0][0]\n",
    "        \n",
    "#    time.sleep(1)\n",
    "    \n",
    "print(f'story_with_longest_comment - {story_with_longest_comment}')\n",
    "print(f'longest_descendants - {longest_descendants}')\n",
    "print(f'no_stories_created - {no_stories_created}')\n",
    "print(f'no_comments_created - {no_comments_created}')\n",
    "print(f'user left most comment - {user_left_most_comment}')\n",
    "print(f'user created more stories - {user_created_more_stories}')\n",
    "print(f'Day on which most of stories created - {day_max_str}')\n",
    "print(f'Day on which most of comments created  - {day_max_cmnt}')"
   ]
  },
  {
   "cell_type": "code",
   "execution_count": null,
   "metadata": {},
   "outputs": [],
   "source": []
  }
 ],
 "metadata": {
  "kernelspec": {
   "display_name": "Python 3",
   "language": "python",
   "name": "python3"
  },
  "language_info": {
   "codemirror_mode": {
    "name": "ipython",
    "version": 3
   },
   "file_extension": ".py",
   "mimetype": "text/x-python",
   "name": "python",
   "nbconvert_exporter": "python",
   "pygments_lexer": "ipython3",
   "version": "3.8.3"
  }
 },
 "nbformat": 4,
 "nbformat_minor": 4
}
