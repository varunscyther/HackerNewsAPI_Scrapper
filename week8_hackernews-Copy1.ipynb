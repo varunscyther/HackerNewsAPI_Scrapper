{
 "cells": [
  {
   "cell_type": "code",
   "execution_count": 10,
   "metadata": {},
   "outputs": [],
   "source": [
    "import sys\n",
    "sys.path.append(\"..\")\n",
    "import grading\n",
    "grader = grading.Grader(assignment_key=\"1wDR6Z0HRy6HXERfu3xZfw\", \n",
    "                      all_parts=[\"1OMZ7\", \"ERjp0\", \"QQkMj\", \"CNPy6\", \"yuulf\",\n",
    "                                 \"8WcJM\", \"EUQgy\", \"9xil0\", \"cz9lO\", \"JLFk8\"])"
   ]
  },
  {
   "cell_type": "code",
   "execution_count": 11,
   "metadata": {},
   "outputs": [],
   "source": [
    "# token expires every 30 min\n",
    "COURSERA_EMAIL = 'kkumar@edu.hse.ru'\n",
    "COURSERA_TOKEN = '3ChJ4XU34EBrLjXc'"
   ]
  },
  {
   "cell_type": "code",
   "execution_count": null,
   "metadata": {},
   "outputs": [],
   "source": [
    "import requests\n",
    "import time\n",
    "url = 'https://hacker-news.firebaseio.com/v0/'\n",
    "no_stories_created = 0\n",
    "no_comments_created = 0\n",
    "story_with_longest_comment = 0 \n",
    "longest_descendants = None\n",
    "user_comments_dict = {}\n",
    "user_storys_dict = {}\n",
    "for item in range(7911, 10218):\n",
    "    response = requests.get(url + f'item/{item}.json').json()\n",
    "    if response.get('type') == \"story\":\n",
    "        no_stories_created += 1\n",
    "        if user_storys_dict.get(response.get('by')) is None :\n",
    "            user_storys_dict[response.get('by')] = 1\n",
    "        else :  \n",
    "            user_storys_dict[response.get('by')] += 1\n",
    "        if longest_descendants is None :\n",
    "            longest_descendants = response.get('descendants')\n",
    "            story_with_longest_comment = item\n",
    "        elif response.get('descendants') is not None and response.get('descendants') > longest_descendants:\n",
    "            longest_descendants = response.get('descendants')\n",
    "            story_with_longest_comment = item\n",
    "    elif response.get('type') == \"comment\":\n",
    "        no_comments_created += 1\n",
    "        if user_comments_dict.get(response.get('by')) is None :\n",
    "            user_comments_dict[response.get('by')] = 1\n",
    "        else: \n",
    "            user_comments_dict[response.get('by')] += 1\n",
    "sorted_user_comments_dict = sorted(user_comments_dict.items(), key=lambda x: x[1], reverse=True)\n",
    "sorted_user_storys_dict  = sorted(user_storys_dict.items(), key=lambda x: x[1], reverse=True)\n",
    "        \n",
    "#    time.sleep(1)\n",
    "\n",
    "user_left_most_comment = list(sorted_user_comments_dict.keys())[0]\n",
    "user_created_more_stories = list(sorted_user_storys_dict.keys())[0]\n",
    "    \n",
    "\n",
    "answer_part_1 = no_stories_created\n",
    "\n",
    "# Setting our answers to grader. Do not change!\n",
    "grader.set_answer(\"1OMZ7\", answer_part_1)\n",
    "\n",
    "answer_part_2 = longest_descendants\n",
    "\n",
    "# Setting our answers to grader. Do not change!\n",
    "grader.set_answer(\"QQkMj\", answer_part_3)\n",
    "\n",
    "answer_part_3 = user_left_most_comment\n",
    "# Setting our answers to grader. Do not change!\n",
    "grader.set_answer(\"QQkMj\", answer_part_3)\n",
    "\n",
    "answer_part_4 = user_created_more_stories\n",
    "\n",
    "# Setting our answers to grader. Do not change!\n",
    "grader.set_answer(\"CNPy6\", answer_part_4)\n",
    "\n",
    "\n",
    "\n",
    "\n",
    "# you can make submission with answers so far to check yourself at this stage\n",
    "grader.submit(COURSERA_EMAIL, COURSERA_TOKEN)"
   ]
  },
  {
   "cell_type": "code",
   "execution_count": null,
   "metadata": {},
   "outputs": [],
   "source": []
  }
 ],
 "metadata": {
  "kernelspec": {
   "display_name": "Python 3",
   "language": "python",
   "name": "python3"
  },
  "language_info": {
   "codemirror_mode": {
    "name": "ipython",
    "version": 3
   },
   "file_extension": ".py",
   "mimetype": "text/x-python",
   "name": "python",
   "nbconvert_exporter": "python",
   "pygments_lexer": "ipython3",
   "version": "3.8.3"
  }
 },
 "nbformat": 4,
 "nbformat_minor": 4
}
